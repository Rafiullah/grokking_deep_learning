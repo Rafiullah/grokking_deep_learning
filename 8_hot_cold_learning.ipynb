{
 "cells": [
  {
   "cell_type": "code",
   "execution_count": 2,
   "metadata": {},
   "outputs": [
    {
     "name": "stdout",
     "output_type": "stream",
     "text": [
      "0.022499999999999975 0.05522499999999994 0.004224999999999993\n"
     ]
    }
   ],
   "source": [
    "weight = 0.1\n",
    "input = 8.5\n",
    "goal_prediction = 1\n",
    "step_amount = 0.01\n",
    "def neural_network(input, weight):\n",
    "    prediction = input * weight\n",
    "    return prediction\n",
    "\n",
    "prediction = neural_network(input, weight)\n",
    "error = (prediction - goal_prediction) ** 2\n",
    "\n",
    "up_prediction = neural_network(input, weight + step_amount)\n",
    "up_error = (up_prediction - goal_prediction) ** 2\n",
    "\n",
    "down_prediction = neural_network(input, weight - step_amount)\n",
    "down_error = (down_prediction - goal_prediction) ** 2\n",
    "\n",
    "if(down_error < up_error):\n",
    "    weight = weight - step_amount\n",
    "if(down_error > up_error):\n",
    "    weight = weight + step_amount\n",
    "\n",
    "print(error, down_error, up_error)"
   ]
  },
  {
   "cell_type": "code",
   "execution_count": null,
   "metadata": {},
   "outputs": [],
   "source": []
  }
 ],
 "metadata": {
  "kernelspec": {
   "display_name": "Python 3",
   "language": "python",
   "name": "python3"
  },
  "language_info": {
   "codemirror_mode": {
    "name": "ipython",
    "version": 3
   },
   "file_extension": ".py",
   "mimetype": "text/x-python",
   "name": "python",
   "nbconvert_exporter": "python",
   "pygments_lexer": "ipython3",
   "version": "3.7.4"
  }
 },
 "nbformat": 4,
 "nbformat_minor": 4
}
