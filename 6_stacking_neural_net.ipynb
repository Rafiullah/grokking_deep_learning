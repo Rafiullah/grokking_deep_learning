{
 "cells": [
  {
   "cell_type": "code",
   "execution_count": 2,
   "metadata": {},
   "outputs": [
    {
     "name": "stdout",
     "output_type": "stream",
     "text": [
      "[0.21449999999999997, 0.1458, 0.5098999999999999]\n"
     ]
    }
   ],
   "source": [
    "                 #toes, #win  #fans\n",
    "input_weights = [[0.1,   0.2,  -0.1],#hidden[0]\n",
    "                [-0.1,  0.1,   0.9], #hidden[1]\n",
    "                [0.1,   0.4,   0.1]] #hidden[2]\n",
    "\n",
    "hidden_weights = [[0.3, 1.1, -0.3], #hurt\n",
    "                  [0.1, 0.2,  0.0], #win\n",
    "                  [0.0, 1.3,  0.1]] #sad\n",
    "\n",
    "weights = [input_weights, hidden_weights]\n",
    "\n",
    "def neural_network(input, weights):\n",
    "    hidden = vect_mat_mul(input, weights[0])\n",
    "    pred = vect_mat_mul(hidden, weights[1])\n",
    "    return pred\n",
    "\n",
    "def w_sum(a,b):\n",
    "    assert(len(a)==len(b))\n",
    "    output = 0\n",
    "    for i in range(len(a)):\n",
    "        output += (a[i]*b[i])\n",
    "    return output\n",
    "\n",
    "def vect_mat_mul(vect, matrix):\n",
    "    output = [0] * len(vect)\n",
    "    for i in range(len(vect)):\n",
    "        output[i] = w_sum(vect, matrix[i])\n",
    "    return output\n",
    "\n",
    "toes = [8.5, 9.5, 9.9, 9.0]\n",
    "wlrec = [0.67, 0.8, 0.8, 0.9]\n",
    "nfans = [1.2, 1.3, 0.5, 1.0]\n",
    "\n",
    "input = [toes[0], wlrec[0], nfans[0]]\n",
    "pred = neural_network(input, weights)\n",
    "print(pred)\n",
    "\n",
    "\n"
   ]
  },
  {
   "cell_type": "code",
   "execution_count": null,
   "metadata": {},
   "outputs": [],
   "source": []
  }
 ],
 "metadata": {
  "kernelspec": {
   "display_name": "Python 3",
   "language": "python",
   "name": "python3"
  },
  "language_info": {
   "codemirror_mode": {
    "name": "ipython",
    "version": 3
   },
   "file_extension": ".py",
   "mimetype": "text/x-python",
   "name": "python",
   "nbconvert_exporter": "python",
   "pygments_lexer": "ipython3",
   "version": "3.7.4"
  }
 },
 "nbformat": 4,
 "nbformat_minor": 4
}
