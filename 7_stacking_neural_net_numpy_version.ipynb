{
 "cells": [
  {
   "cell_type": "code",
   "execution_count": 1,
   "metadata": {},
   "outputs": [
    {
     "name": "stdout",
     "output_type": "stream",
     "text": [
      "[0.2145 0.1458 0.5099]\n"
     ]
    }
   ],
   "source": [
    "import numpy as np                \n",
    "                            #toes, #win  #fans\n",
    "input_weights = np.array([[0.1,   0.2,  -0.1],#hidden[0]\n",
    "                          [-0.1,  0.1,   0.9], #hidden[1]\n",
    "                          [0.1,   0.4,   0.1]]).T #hidden[2]\n",
    "\n",
    "hidden_weights = np.array([[0.3, 1.1, -0.3], #hurt\n",
    "                           [0.1, 0.2,  0.0], #win\n",
    "                           [0.0, 1.3,  0.1]]).T #sad\n",
    "\n",
    "weights = [input_weights, hidden_weights]\n",
    "\n",
    "def neural_network(input, weights):\n",
    "    hidden = input.dot(weights[0])\n",
    "    pred =   hidden.dot(weights[1])\n",
    "    return pred\n",
    "\n",
    "\n",
    "toes = np.array([8.5, 9.5, 9.9, 9.0])\n",
    "wlrec = np.array([0.67, 0.8, 0.8, 0.9])\n",
    "nfans = np.array([1.2, 1.3, 0.5, 1.0])\n",
    "\n",
    "input = np.array([toes[0], wlrec[0], nfans[0]])\n",
    "pred = neural_network(input, weights)\n",
    "print(pred)\n"
   ]
  },
  {
   "cell_type": "code",
   "execution_count": null,
   "metadata": {},
   "outputs": [],
   "source": []
  }
 ],
 "metadata": {
  "kernelspec": {
   "display_name": "Python 3",
   "language": "python",
   "name": "python3"
  },
  "language_info": {
   "codemirror_mode": {
    "name": "ipython",
    "version": 3
   },
   "file_extension": ".py",
   "mimetype": "text/x-python",
   "name": "python",
   "nbconvert_exporter": "python",
   "pygments_lexer": "ipython3",
   "version": "3.7.4"
  }
 },
 "nbformat": 4,
 "nbformat_minor": 4
}
